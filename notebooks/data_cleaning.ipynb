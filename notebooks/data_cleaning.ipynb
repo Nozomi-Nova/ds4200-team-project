{
 "cells": [
  {
   "cell_type": "markdown",
   "id": "508e2ecf",
   "metadata": {},
   "source": [
    "# Import Libraries\n",
    "Import necessary libraries for data loading, cleaning, and visualization."
   ]
  },
  {
   "cell_type": "code",
   "execution_count": 1,
   "id": "5371b93e",
   "metadata": {},
   "outputs": [],
   "source": [
    "import pandas as pd\n",
    "import numpy as np\n",
    "import matplotlib.pyplot as plt\n",
    "import seaborn as sns"
   ]
  },
  {
   "cell_type": "markdown",
   "id": "f47da102",
   "metadata": {},
   "source": [
    "# Load Dataset\n",
    "Load the dataset and display its basic structure."
   ]
  },
  {
   "cell_type": "code",
   "execution_count": 3,
   "id": "0da0b5e5",
   "metadata": {},
   "outputs": [
    {
     "name": "stdout",
     "output_type": "stream",
     "text": [
      "Dataset Overview:\n",
      "<class 'pandas.core.frame.DataFrame'>\n",
      "RangeIndex: 7805 entries, 0 to 7804\n",
      "Data columns (total 25 columns):\n",
      " #   Column                         Non-Null Count  Dtype  \n",
      "---  ------                         --------------  -----  \n",
      " 0   Rating Agency                  7805 non-null   object \n",
      " 1   Corporation                    7805 non-null   object \n",
      " 2   Rating                         7805 non-null   object \n",
      " 3   Rating Date                    7805 non-null   object \n",
      " 4   CIK                            7805 non-null   int64  \n",
      " 5   Binary Rating                  7805 non-null   int64  \n",
      " 6   SIC Code                       7805 non-null   float64\n",
      " 7   Sector                         7805 non-null   object \n",
      " 8   Ticker                         7805 non-null   object \n",
      " 9   Current Ratio                  7805 non-null   float64\n",
      " 10  Long-term Debt / Capital       7805 non-null   float64\n",
      " 11  Debt/Equity Ratio              7805 non-null   float64\n",
      " 12  Gross Margin                   7805 non-null   float64\n",
      " 13  Operating Margin               7805 non-null   float64\n",
      " 14  EBIT Margin                    7805 non-null   float64\n",
      " 15  EBITDA Margin                  7805 non-null   float64\n",
      " 16  Pre-Tax Profit Margin          7805 non-null   float64\n",
      " 17  Net Profit Margin              7805 non-null   float64\n",
      " 18  Asset Turnover                 7805 non-null   float64\n",
      " 19  ROE - Return On Equity         7805 non-null   float64\n",
      " 20  Return On Tangible Equity      7805 non-null   float64\n",
      " 21  ROA - Return On Assets         7805 non-null   float64\n",
      " 22  ROI - Return On Investment     7805 non-null   float64\n",
      " 23  Operating Cash Flow Per Share  7805 non-null   float64\n",
      " 24  Free Cash Flow Per Share       7805 non-null   float64\n",
      "dtypes: float64(17), int64(2), object(6)\n",
      "memory usage: 1.5+ MB\n",
      "None\n",
      "\n",
      "First 5 rows:\n",
      "                        Rating Agency                     Corporation Rating  \\\n",
      "0  Standard & Poor's Ratings Services       American States Water Co.     A-   \n",
      "1  Standard & Poor's Ratings Services  Automatic Data Processing Inc.    AAA   \n",
      "2  Standard & Poor's Ratings Services                      Avnet Inc.   BBB-   \n",
      "3  Standard & Poor's Ratings Services    California Water Service Co.    AA-   \n",
      "4  Standard & Poor's Ratings Services            Cardinal Health Inc.      A   \n",
      "\n",
      "  Rating Date      CIK  Binary Rating  SIC Code Sector Ticker  Current Ratio  \\\n",
      "0  2010-07-30  1056903              1    4941.0  Utils    AWR         1.1507   \n",
      "1  2010-09-16     8670              1    7374.0  BusEq    ADP         1.1129   \n",
      "2  2010-11-23     8858              1    5065.0  Shops    AVT         1.9276   \n",
      "3  2010-06-29  1035201              1    4941.0  Utils    CWT         0.8358   \n",
      "4  2010-07-14   721371              1    5122.0  Shops    CAH         1.2931   \n",
      "\n",
      "   ...  EBITDA Margin  Pre-Tax Profit Margin  Net Profit Margin  \\\n",
      "0  ...        28.9834                13.6093             8.3224   \n",
      "1  ...        23.9379                20.8699            13.5690   \n",
      "2  ...         3.6338                 3.0536             2.1418   \n",
      "3  ...        27.9377                15.1135             9.0246   \n",
      "4  ...         1.5847                 1.2304             0.6518   \n",
      "\n",
      "   Asset Turnover  ROE - Return On Equity  Return On Tangible Equity  \\\n",
      "0          0.3173                  8.1724                     8.1978   \n",
      "1          0.3324                 22.0354                    47.2858   \n",
      "2          2.4620                 13.6376                    16.7991   \n",
      "3          0.2946                  9.6412                     9.7015   \n",
      "4          4.9276                 11.1256                    19.4184   \n",
      "\n",
      "   ROA - Return On Assets  ROI - Return On Investment  \\\n",
      "0                  2.6385                      4.4530   \n",
      "1                  4.4944                     21.8765   \n",
      "2                  5.2731                      9.6494   \n",
      "3                  2.6583                      5.1018   \n",
      "4                  2.9364                      8.1844   \n",
      "\n",
      "   Operating Cash Flow Per Share  Free Cash Flow Per Share  \n",
      "0                         1.9957                   -0.1333  \n",
      "1                         0.2501                    0.3132  \n",
      "2                        -7.6079                   -7.3231  \n",
      "3                         1.7438                   -0.8999  \n",
      "4                         1.9725                    2.4174  \n",
      "\n",
      "[5 rows x 25 columns]\n"
     ]
    }
   ],
   "source": [
    "df = pd.read_csv(\"../data/corporateCreditRatingWithFinancialRatios.csv\")\n",
    "print(\"Dataset Overview:\")\n",
    "print(df.info())\n",
    "print(\"\\nFirst 5 rows:\")\n",
    "print(df.head())"
   ]
  },
  {
   "cell_type": "markdown",
   "id": "ebf10919",
   "metadata": {},
   "source": [
    "# Check for Missing Values\n",
    "Check for missing or null values in the dataset."
   ]
  },
  {
   "cell_type": "code",
   "execution_count": 4,
   "id": "b1201e50",
   "metadata": {},
   "outputs": [
    {
     "name": "stdout",
     "output_type": "stream",
     "text": [
      "\n",
      "Missing Values:\n",
      "Rating Agency                    0\n",
      "Corporation                      0\n",
      "Rating                           0\n",
      "Rating Date                      0\n",
      "CIK                              0\n",
      "Binary Rating                    0\n",
      "SIC Code                         0\n",
      "Sector                           0\n",
      "Ticker                           0\n",
      "Current Ratio                    0\n",
      "Long-term Debt / Capital         0\n",
      "Debt/Equity Ratio                0\n",
      "Gross Margin                     0\n",
      "Operating Margin                 0\n",
      "EBIT Margin                      0\n",
      "EBITDA Margin                    0\n",
      "Pre-Tax Profit Margin            0\n",
      "Net Profit Margin                0\n",
      "Asset Turnover                   0\n",
      "ROE - Return On Equity           0\n",
      "Return On Tangible Equity        0\n",
      "ROA - Return On Assets           0\n",
      "ROI - Return On Investment       0\n",
      "Operating Cash Flow Per Share    0\n",
      "Free Cash Flow Per Share         0\n",
      "dtype: int64\n"
     ]
    }
   ],
   "source": [
    "print(\"\\nMissing Values:\")\n",
    "print(df.isnull().sum())"
   ]
  },
  {
   "cell_type": "markdown",
   "id": "377766ee",
   "metadata": {},
   "source": [
    "# Verify Duplicate Rows\n",
    "Check for duplicate rows to ensure data integrity."
   ]
  },
  {
   "cell_type": "code",
   "execution_count": 6,
   "id": "5ddb419b",
   "metadata": {},
   "outputs": [
    {
     "name": "stdout",
     "output_type": "stream",
     "text": [
      "\n",
      "Duplicate rows: 0\n"
     ]
    }
   ],
   "source": [
    "duplicates = df.duplicated().sum()\n",
    "print(f\"\\nDuplicate rows: {duplicates}\")"
   ]
  },
  {
   "cell_type": "markdown",
   "id": "95c299e6",
   "metadata": {},
   "source": [
    "# Verify Date Range\n",
    "Are any dates incorrectly formatted or out of range (2010 - 2016)?"
   ]
  },
  {
   "cell_type": "code",
   "execution_count": 12,
   "id": "b5628d4e",
   "metadata": {},
   "outputs": [
    {
     "name": "stdout",
     "output_type": "stream",
     "text": [
      "Oldest Rating Date: 2010-04-06 00:00:00\n",
      "Most Recent Rating Date: 2016-12-27 00:00:00\n"
     ]
    }
   ],
   "source": [
    "print(f\"Oldest Rating Date: {df['Rating Date'].min()}\")\n",
    "print(f\"Most Recent Rating Date: {df['Rating Date'].max()}\")"
   ]
  },
  {
   "cell_type": "markdown",
   "id": "e18121bd",
   "metadata": {},
   "source": [
    "# Convert Rating Date to Datetime\n",
    "Convert the 'Rating Date' column to a datetime object."
   ]
  },
  {
   "cell_type": "code",
   "execution_count": 8,
   "id": "52cfdcfd",
   "metadata": {},
   "outputs": [
    {
     "name": "stdout",
     "output_type": "stream",
     "text": [
      "\n",
      "Converted 'Rating Date' to datetime. Summary:\n",
      "count                             7805\n",
      "mean     2014-06-06 12:14:28.981421824\n",
      "min                2010-04-06 00:00:00\n",
      "25%                2013-07-23 00:00:00\n",
      "50%                2014-07-23 00:00:00\n",
      "75%                2015-07-02 00:00:00\n",
      "max                2016-12-27 00:00:00\n",
      "Name: Rating Date, dtype: object\n"
     ]
    }
   ],
   "source": [
    "df['Rating Date'] = pd.to_datetime(df['Rating Date'], errors='coerce')\n",
    "print(\"\\nConverted 'Rating Date' to datetime. Summary:\")\n",
    "print(df['Rating Date'].describe(datetime_is_numeric=True))"
   ]
  },
  {
   "cell_type": "markdown",
   "id": "3c1c46dd",
   "metadata": {},
   "source": [
    "# Standardize Text Columns\n",
    "Standardize text formatting for categorical columns."
   ]
  },
  {
   "cell_type": "code",
   "execution_count": 9,
   "id": "a3a81e86",
   "metadata": {},
   "outputs": [
    {
     "name": "stdout",
     "output_type": "stream",
     "text": [
      "\n",
      "Standardized text columns. Sample:\n",
      "                        Rating Agency                     Corporation Sector\n",
      "0  Standard & Poor'S Ratings Services       American States Water Co.  Utils\n",
      "1  Standard & Poor'S Ratings Services  Automatic Data Processing Inc.  Buseq\n",
      "2  Standard & Poor'S Ratings Services                      Avnet Inc.  Shops\n",
      "3  Standard & Poor'S Ratings Services    California Water Service Co.  Utils\n",
      "4  Standard & Poor'S Ratings Services            Cardinal Health Inc.  Shops\n"
     ]
    }
   ],
   "source": [
    "text_cols = ['Rating Agency', 'Corporation', 'Sector']\n",
    "df[text_cols] = df[text_cols].apply(lambda x: x.str.strip().str.title())\n",
    "print(\"\\nStandardized text columns. Sample:\")\n",
    "print(df[text_cols].head())"
   ]
  },
  {
   "cell_type": "markdown",
   "id": "898633da",
   "metadata": {},
   "source": [
    "# Visualize Outliers\n",
    "Plot boxplots for key financial ratios to identify outliers."
   ]
  },
  {
   "cell_type": "code",
   "execution_count": 10,
   "id": "870431c5",
   "metadata": {},
   "outputs": [
    {
     "data": {
      "image/png": "[encoded data removed]",
      "text/plain": [
       "<Figure size 1200x600 with 1 Axes>"
      ]
     },
     "metadata": {},
     "output_type": "display_data"
    },
    {
     "name": "stdout",
     "output_type": "stream",
     "text": [
      "       Current Ratio  Debt/Equity Ratio  ROE - Return On Equity  \\\n",
      "count    7805.000000        7805.000000             7805.000000   \n",
      "mean        1.926313           0.177349               15.950507   \n",
      "std         1.921651          34.456334              230.592526   \n",
      "min         0.174900       -1473.098000           -11258.210000   \n",
      "25%         1.077300           0.419700                6.022800   \n",
      "50%         1.496800           0.752800               12.500000   \n",
      "75%         2.161000           1.211600               20.515700   \n",
      "max        34.076800         194.375000             7038.461000   \n",
      "\n",
      "       ROA - Return On Assets  ROI - Return On Investment  \\\n",
      "count             7805.000000                 7805.000000   \n",
      "mean                 4.575705                    7.076084   \n",
      "std                  9.229899                   24.382027   \n",
      "min               -226.442500                 -745.454500   \n",
      "25%                  2.391900                    3.692600   \n",
      "50%                  4.767500                    7.440800   \n",
      "75%                  7.881300                   12.515100   \n",
      "max                114.716900                  466.666700   \n",
      "\n",
      "       Operating Cash Flow Per Share  Free Cash Flow Per Share  \n",
      "count                    7805.000000               7805.000000  \n",
      "mean                        0.479756                  0.119491  \n",
      "std                         6.050626                  7.253660  \n",
      "min                       -91.330200               -130.665800  \n",
      "25%                        -0.448500                 -0.723700  \n",
      "50%                         0.237800                  0.133500  \n",
      "75%                         1.088800                  0.997800  \n",
      "max                       282.192100                107.737700  \n"
     ]
    }
   ],
   "source": [
    "ratio_cols = [\n",
    "    \"Current Ratio\", \"Debt/Equity Ratio\", \"ROE - Return On Equity\",\n",
    "    \"ROA - Return On Assets\", \"ROI - Return On Investment\",\n",
    "    \"Operating Cash Flow Per Share\", \"Free Cash Flow Per Share\"\n",
    "]\n",
    "\n",
    "plt.figure(figsize=(12, 6))\n",
    "df[ratio_cols].boxplot(rot=45)\n",
    "plt.title(\"Boxplot of Financial Ratios\")\n",
    "plt.show()\n",
    "\n",
    "print(df[ratio_cols].describe())"
   ]
  },
  {
   "cell_type": "markdown",
   "id": "2609ba6a",
   "metadata": {},
   "source": [
    "# Handle Outliers\n",
    "Cap extreme outliers to the 1st and 99th percentiles."
   ]
  },
  {
   "cell_type": "code",
   "execution_count": 11,
   "id": "80d94477",
   "metadata": {},
   "outputs": [
    {
     "name": "stdout",
     "output_type": "stream",
     "text": [
      "\n",
      "Capped extreme values. Sample after capping:\n",
      "       Current Ratio  Debt/Equity Ratio  ROE - Return On Equity  \\\n",
      "count    7805.000000        7805.000000             7805.000000   \n",
      "mean        1.852727           1.113450               13.104024   \n",
      "std         1.295572           3.592178               39.667223   \n",
      "min         0.481508         -14.539800             -171.447100   \n",
      "25%         1.077300           0.419700                6.022800   \n",
      "50%         1.496800           0.752800               12.500000   \n",
      "75%         2.161000           1.211600               20.515700   \n",
      "max         8.132600          26.151300              233.333400   \n",
      "\n",
      "       ROA - Return On Assets  ROI - Return On Investment  \\\n",
      "count             7805.000000                 7805.000000   \n",
      "mean                 4.798165                    7.730621   \n",
      "std                  6.156724                   10.248318   \n",
      "min                -23.714600                  -36.576200   \n",
      "25%                  2.391900                    3.692600   \n",
      "50%                  4.767500                    7.440800   \n",
      "75%                  7.881300                   12.515100   \n",
      "max                 19.687000                   40.989400   \n",
      "\n",
      "       Operating Cash Flow Per Share  Free Cash Flow Per Share  \n",
      "count                    7805.000000               7805.000000  \n",
      "mean                        0.431351                  0.159821  \n",
      "std                         2.530004                  2.738612  \n",
      "min                        -8.356600                -10.930200  \n",
      "25%                        -0.448500                 -0.723700  \n",
      "50%                         0.237800                  0.133500  \n",
      "75%                         1.088800                  0.997800  \n",
      "max                        13.291672                 11.410900  \n"
     ]
    }
   ],
   "source": [
    "for col in ratio_cols:\n",
    "    lower_bound = df[col].quantile(0.01)\n",
    "    upper_bound = df[col].quantile(0.99)\n",
    "    df[col] = df[col].clip(lower=lower_bound, upper=upper_bound)\n",
    "print(\"\\nCapped extreme values. Sample after capping:\")\n",
    "print(df[ratio_cols].describe())"
   ]
  },
  {
   "cell_type": "markdown",
   "id": "0d791919",
   "metadata": {},
   "source": [
    "# Save Cleaned Data\n",
    "Save the cleaned dataset for further analysis."
   ]
  },
  {
   "cell_type": "code",
   "execution_count": 13,
   "id": "b7d0898c",
   "metadata": {},
   "outputs": [
    {
     "name": "stdout",
     "output_type": "stream",
     "text": [
      "\n",
      "Cleaned dataset saved as 'cleaned_credit_ratings.csv'.\n"
     ]
    }
   ],
   "source": [
    "df.to_csv(\"../data/cleaned_credit_ratings.csv\", index=False)\n",
    "print(\"\\nCleaned dataset saved as 'cleaned_credit_ratings.csv'.\")"
   ]
  }
 ],
 "metadata": {
  "kernelspec": {
   "display_name": "Python 3 (ipykernel)",
   "language": "python",
   "name": "python3"
  },
  "language_info": {
   "codemirror_mode": {
    "name": "ipython",
    "version": 3
   },
   "file_extension": ".py",
   "mimetype": "text/x-python",
   "name": "python",
   "nbconvert_exporter": "python",
   "pygments_lexer": "ipython3",
   "version": "3.12.4"
  }
 },
 "nbformat": 4,
 "nbformat_minor": 5
}

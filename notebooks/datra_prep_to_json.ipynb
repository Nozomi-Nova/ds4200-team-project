{
 "cells": [
  {
   "cell_type": "code",
   "execution_count": 1,
   "id": "c6d427ac-c078-4ca3-8895-6df2825108b9",
   "metadata": {},
   "outputs": [
    {
     "name": "stdout",
     "output_type": "stream",
     "text": [
      "Data saved to '../data/line_chart_data.json'\n"
     ]
    },
    {
     "name": "stderr",
     "output_type": "stream",
     "text": [
      "/var/folders/q0/1sz0zzq97f912m2gfyq658bc0000gn/T/ipykernel_26540/2021034440.py:11: SettingWithCopyWarning: \n",
      "A value is trying to be set on a copy of a slice from a DataFrame.\n",
      "Try using .loc[row_indexer,col_indexer] = value instead\n",
      "\n",
      "See the caveats in the documentation: https://pandas.pydata.org/pandas-docs/stable/user_guide/indexing.html#returning-a-view-versus-a-copy\n",
      "  line_chart_data[\"Rating Date\"] = pd.to_datetime(line_chart_data[\"Rating Date\"])\n",
      "/var/folders/q0/1sz0zzq97f912m2gfyq658bc0000gn/T/ipykernel_26540/2021034440.py:14: SettingWithCopyWarning: \n",
      "A value is trying to be set on a copy of a slice from a DataFrame\n",
      "\n",
      "See the caveats in the documentation: https://pandas.pydata.org/pandas-docs/stable/user_guide/indexing.html#returning-a-view-versus-a-copy\n",
      "  line_chart_data.sort_values(by=[\"Corporation\", \"Rating Date\"], inplace=True)\n"
     ]
    }
   ],
   "source": [
    "import pandas as pd\n",
    "import json\n",
    "\n",
    "# Load cleaned dataset\n",
    "df = pd.read_csv(\"../data/cleaned_credit_ratings.csv\")\n",
    "\n",
    "# Select relevant columns\n",
    "line_chart_data = df[[\"Corporation\", \"Sector\", \"Rating Date\", \"Binary Rating\"]]\n",
    "\n",
    "# Convert \"Rating Date\" to datetime\n",
    "line_chart_data[\"Rating Date\"] = pd.to_datetime(line_chart_data[\"Rating Date\"])\n",
    "\n",
    "# Sort by date\n",
    "line_chart_data.sort_values(by=[\"Corporation\", \"Rating Date\"], inplace=True)\n",
    "\n",
    "# Export to JSON\n",
    "line_chart_data.to_json(\"../data/line_chart_data.json\", orient=\"records\", date_format=\"iso\")\n",
    "print(\"Data saved to '../data/line_chart_data.json'\")"
   ]
  }
 ],
 "metadata": {
  "kernelspec": {
   "display_name": "Python 3 (ipykernel)",
   "language": "python",
   "name": "python3"
  },
  "language_info": {
   "codemirror_mode": {
    "name": "ipython",
    "version": 3
   },
   "file_extension": ".py",
   "mimetype": "text/x-python",
   "name": "python",
   "nbconvert_exporter": "python",
   "pygments_lexer": "ipython3",
   "version": "3.12.4"
  }
 },
 "nbformat": 4,
 "nbformat_minor": 5
}
